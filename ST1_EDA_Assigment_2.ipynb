{
  "nbformat": 4,
  "nbformat_minor": 0,
  "metadata": {
    "colab": {
      "provenance": []
    },
    "kernelspec": {
      "name": "python3",
      "display_name": "Python 3"
    },
    "language_info": {
      "name": "python"
    },
    "accelerator": "GPU",
    "gpuClass": "standard"
  },
  "cells": [
    {
      "cell_type": "code",
      "execution_count": 45,
      "metadata": {
        "id": "JDK7rQIXVjSS"
      },
      "outputs": [],
      "source": [
        "import pandas as pd\n",
        "import numpy as np\n",
        "import matplotlib.pyplot as plt\n",
        "import seaborn as sns\n",
        "plt.style.use('ggplot')\n",
        "pd.options.display.max_rows = 5\n",
        "ds = pd.read_csv(r\"Symptom2Disease.csv\")\n"
      ]
    },
    {
      "cell_type": "code",
      "source": [
        "ds.shape"
      ],
      "metadata": {
        "colab": {
          "base_uri": "https://localhost:8080/"
        },
        "id": "iJDDs9UIWWgu",
        "outputId": "7ec4bcc3-c33c-4c2c-f5db-ff671e82c91a"
      },
      "execution_count": 46,
      "outputs": [
        {
          "output_type": "execute_result",
          "data": {
            "text/plain": [
              "(1200, 3)"
            ]
          },
          "metadata": {},
          "execution_count": 46
        }
      ]
    },
    {
      "cell_type": "code",
      "source": [
        "ds.head(5)"
      ],
      "metadata": {
        "colab": {
          "base_uri": "https://localhost:8080/",
          "height": 206
        },
        "id": "cBKn2kKHWfL6",
        "outputId": "6efe391f-761a-4ed1-e892-c16fd075bba8"
      },
      "execution_count": 47,
      "outputs": [
        {
          "output_type": "execute_result",
          "data": {
            "text/plain": [
              "   Unnamed: 0      label                                               text\n",
              "0           0  Psoriasis  I have been experiencing a skin rash on my arm...\n",
              "1           1  Psoriasis  My skin has been peeling, especially on my kne...\n",
              "2           2  Psoriasis  I have been experiencing joint pain in my fing...\n",
              "3           3  Psoriasis  There is a silver like dusting on my skin, esp...\n",
              "4           4  Psoriasis  My nails have small dents or pits in them, and..."
            ],
            "text/html": [
              "\n",
              "  <div id=\"df-cbc77552-9ad1-4e7f-b5b2-f2246e7e9d4c\">\n",
              "    <div class=\"colab-df-container\">\n",
              "      <div>\n",
              "<style scoped>\n",
              "    .dataframe tbody tr th:only-of-type {\n",
              "        vertical-align: middle;\n",
              "    }\n",
              "\n",
              "    .dataframe tbody tr th {\n",
              "        vertical-align: top;\n",
              "    }\n",
              "\n",
              "    .dataframe thead th {\n",
              "        text-align: right;\n",
              "    }\n",
              "</style>\n",
              "<table border=\"1\" class=\"dataframe\">\n",
              "  <thead>\n",
              "    <tr style=\"text-align: right;\">\n",
              "      <th></th>\n",
              "      <th>Unnamed: 0</th>\n",
              "      <th>label</th>\n",
              "      <th>text</th>\n",
              "    </tr>\n",
              "  </thead>\n",
              "  <tbody>\n",
              "    <tr>\n",
              "      <th>0</th>\n",
              "      <td>0</td>\n",
              "      <td>Psoriasis</td>\n",
              "      <td>I have been experiencing a skin rash on my arm...</td>\n",
              "    </tr>\n",
              "    <tr>\n",
              "      <th>1</th>\n",
              "      <td>1</td>\n",
              "      <td>Psoriasis</td>\n",
              "      <td>My skin has been peeling, especially on my kne...</td>\n",
              "    </tr>\n",
              "    <tr>\n",
              "      <th>2</th>\n",
              "      <td>2</td>\n",
              "      <td>Psoriasis</td>\n",
              "      <td>I have been experiencing joint pain in my fing...</td>\n",
              "    </tr>\n",
              "    <tr>\n",
              "      <th>3</th>\n",
              "      <td>3</td>\n",
              "      <td>Psoriasis</td>\n",
              "      <td>There is a silver like dusting on my skin, esp...</td>\n",
              "    </tr>\n",
              "    <tr>\n",
              "      <th>4</th>\n",
              "      <td>4</td>\n",
              "      <td>Psoriasis</td>\n",
              "      <td>My nails have small dents or pits in them, and...</td>\n",
              "    </tr>\n",
              "  </tbody>\n",
              "</table>\n",
              "</div>\n",
              "      <button class=\"colab-df-convert\" onclick=\"convertToInteractive('df-cbc77552-9ad1-4e7f-b5b2-f2246e7e9d4c')\"\n",
              "              title=\"Convert this dataframe to an interactive table.\"\n",
              "              style=\"display:none;\">\n",
              "        \n",
              "  <svg xmlns=\"http://www.w3.org/2000/svg\" height=\"24px\"viewBox=\"0 0 24 24\"\n",
              "       width=\"24px\">\n",
              "    <path d=\"M0 0h24v24H0V0z\" fill=\"none\"/>\n",
              "    <path d=\"M18.56 5.44l.94 2.06.94-2.06 2.06-.94-2.06-.94-.94-2.06-.94 2.06-2.06.94zm-11 1L8.5 8.5l.94-2.06 2.06-.94-2.06-.94L8.5 2.5l-.94 2.06-2.06.94zm10 10l.94 2.06.94-2.06 2.06-.94-2.06-.94-.94-2.06-.94 2.06-2.06.94z\"/><path d=\"M17.41 7.96l-1.37-1.37c-.4-.4-.92-.59-1.43-.59-.52 0-1.04.2-1.43.59L10.3 9.45l-7.72 7.72c-.78.78-.78 2.05 0 2.83L4 21.41c.39.39.9.59 1.41.59.51 0 1.02-.2 1.41-.59l7.78-7.78 2.81-2.81c.8-.78.8-2.07 0-2.86zM5.41 20L4 18.59l7.72-7.72 1.47 1.35L5.41 20z\"/>\n",
              "  </svg>\n",
              "      </button>\n",
              "      \n",
              "  <style>\n",
              "    .colab-df-container {\n",
              "      display:flex;\n",
              "      flex-wrap:wrap;\n",
              "      gap: 12px;\n",
              "    }\n",
              "\n",
              "    .colab-df-convert {\n",
              "      background-color: #E8F0FE;\n",
              "      border: none;\n",
              "      border-radius: 50%;\n",
              "      cursor: pointer;\n",
              "      display: none;\n",
              "      fill: #1967D2;\n",
              "      height: 32px;\n",
              "      padding: 0 0 0 0;\n",
              "      width: 32px;\n",
              "    }\n",
              "\n",
              "    .colab-df-convert:hover {\n",
              "      background-color: #E2EBFA;\n",
              "      box-shadow: 0px 1px 2px rgba(60, 64, 67, 0.3), 0px 1px 3px 1px rgba(60, 64, 67, 0.15);\n",
              "      fill: #174EA6;\n",
              "    }\n",
              "\n",
              "    [theme=dark] .colab-df-convert {\n",
              "      background-color: #3B4455;\n",
              "      fill: #D2E3FC;\n",
              "    }\n",
              "\n",
              "    [theme=dark] .colab-df-convert:hover {\n",
              "      background-color: #434B5C;\n",
              "      box-shadow: 0px 1px 3px 1px rgba(0, 0, 0, 0.15);\n",
              "      filter: drop-shadow(0px 1px 2px rgba(0, 0, 0, 0.3));\n",
              "      fill: #FFFFFF;\n",
              "    }\n",
              "  </style>\n",
              "\n",
              "      <script>\n",
              "        const buttonEl =\n",
              "          document.querySelector('#df-cbc77552-9ad1-4e7f-b5b2-f2246e7e9d4c button.colab-df-convert');\n",
              "        buttonEl.style.display =\n",
              "          google.colab.kernel.accessAllowed ? 'block' : 'none';\n",
              "\n",
              "        async function convertToInteractive(key) {\n",
              "          const element = document.querySelector('#df-cbc77552-9ad1-4e7f-b5b2-f2246e7e9d4c');\n",
              "          const dataTable =\n",
              "            await google.colab.kernel.invokeFunction('convertToInteractive',\n",
              "                                                     [key], {});\n",
              "          if (!dataTable) return;\n",
              "\n",
              "          const docLinkHtml = 'Like what you see? Visit the ' +\n",
              "            '<a target=\"_blank\" href=https://colab.research.google.com/notebooks/data_table.ipynb>data table notebook</a>'\n",
              "            + ' to learn more about interactive tables.';\n",
              "          element.innerHTML = '';\n",
              "          dataTable['output_type'] = 'display_data';\n",
              "          await google.colab.output.renderOutput(dataTable, element);\n",
              "          const docLink = document.createElement('div');\n",
              "          docLink.innerHTML = docLinkHtml;\n",
              "          element.appendChild(docLink);\n",
              "        }\n",
              "      </script>\n",
              "    </div>\n",
              "  </div>\n",
              "  "
            ]
          },
          "metadata": {},
          "execution_count": 47
        }
      ]
    },
    {
      "cell_type": "code",
      "source": [
        "ds.tail(5)"
      ],
      "metadata": {
        "colab": {
          "base_uri": "https://localhost:8080/",
          "height": 206
        },
        "id": "xhmMWvFOZSn1",
        "outputId": "90c7737e-85a4-4fcc-9064-481bdf3d9343"
      },
      "execution_count": 48,
      "outputs": [
        {
          "output_type": "execute_result",
          "data": {
            "text/plain": [
              "      Unnamed: 0     label                                               text\n",
              "1195         295  diabetes  I'm shaking and trembling all over. I've lost ...\n",
              "1196         296  diabetes  Particularly in the crevices of my skin, I hav...\n",
              "1197         297  diabetes  I regularly experience these intense urges and...\n",
              "1198         298  diabetes  I have trouble breathing, especially outside. ...\n",
              "1199         299  diabetes  I constantly sneeze and have a dry cough. My i..."
            ],
            "text/html": [
              "\n",
              "  <div id=\"df-6ba99043-f856-4861-8d5c-e2a32ef3f3a3\">\n",
              "    <div class=\"colab-df-container\">\n",
              "      <div>\n",
              "<style scoped>\n",
              "    .dataframe tbody tr th:only-of-type {\n",
              "        vertical-align: middle;\n",
              "    }\n",
              "\n",
              "    .dataframe tbody tr th {\n",
              "        vertical-align: top;\n",
              "    }\n",
              "\n",
              "    .dataframe thead th {\n",
              "        text-align: right;\n",
              "    }\n",
              "</style>\n",
              "<table border=\"1\" class=\"dataframe\">\n",
              "  <thead>\n",
              "    <tr style=\"text-align: right;\">\n",
              "      <th></th>\n",
              "      <th>Unnamed: 0</th>\n",
              "      <th>label</th>\n",
              "      <th>text</th>\n",
              "    </tr>\n",
              "  </thead>\n",
              "  <tbody>\n",
              "    <tr>\n",
              "      <th>1195</th>\n",
              "      <td>295</td>\n",
              "      <td>diabetes</td>\n",
              "      <td>I'm shaking and trembling all over. I've lost ...</td>\n",
              "    </tr>\n",
              "    <tr>\n",
              "      <th>1196</th>\n",
              "      <td>296</td>\n",
              "      <td>diabetes</td>\n",
              "      <td>Particularly in the crevices of my skin, I hav...</td>\n",
              "    </tr>\n",
              "    <tr>\n",
              "      <th>1197</th>\n",
              "      <td>297</td>\n",
              "      <td>diabetes</td>\n",
              "      <td>I regularly experience these intense urges and...</td>\n",
              "    </tr>\n",
              "    <tr>\n",
              "      <th>1198</th>\n",
              "      <td>298</td>\n",
              "      <td>diabetes</td>\n",
              "      <td>I have trouble breathing, especially outside. ...</td>\n",
              "    </tr>\n",
              "    <tr>\n",
              "      <th>1199</th>\n",
              "      <td>299</td>\n",
              "      <td>diabetes</td>\n",
              "      <td>I constantly sneeze and have a dry cough. My i...</td>\n",
              "    </tr>\n",
              "  </tbody>\n",
              "</table>\n",
              "</div>\n",
              "      <button class=\"colab-df-convert\" onclick=\"convertToInteractive('df-6ba99043-f856-4861-8d5c-e2a32ef3f3a3')\"\n",
              "              title=\"Convert this dataframe to an interactive table.\"\n",
              "              style=\"display:none;\">\n",
              "        \n",
              "  <svg xmlns=\"http://www.w3.org/2000/svg\" height=\"24px\"viewBox=\"0 0 24 24\"\n",
              "       width=\"24px\">\n",
              "    <path d=\"M0 0h24v24H0V0z\" fill=\"none\"/>\n",
              "    <path d=\"M18.56 5.44l.94 2.06.94-2.06 2.06-.94-2.06-.94-.94-2.06-.94 2.06-2.06.94zm-11 1L8.5 8.5l.94-2.06 2.06-.94-2.06-.94L8.5 2.5l-.94 2.06-2.06.94zm10 10l.94 2.06.94-2.06 2.06-.94-2.06-.94-.94-2.06-.94 2.06-2.06.94z\"/><path d=\"M17.41 7.96l-1.37-1.37c-.4-.4-.92-.59-1.43-.59-.52 0-1.04.2-1.43.59L10.3 9.45l-7.72 7.72c-.78.78-.78 2.05 0 2.83L4 21.41c.39.39.9.59 1.41.59.51 0 1.02-.2 1.41-.59l7.78-7.78 2.81-2.81c.8-.78.8-2.07 0-2.86zM5.41 20L4 18.59l7.72-7.72 1.47 1.35L5.41 20z\"/>\n",
              "  </svg>\n",
              "      </button>\n",
              "      \n",
              "  <style>\n",
              "    .colab-df-container {\n",
              "      display:flex;\n",
              "      flex-wrap:wrap;\n",
              "      gap: 12px;\n",
              "    }\n",
              "\n",
              "    .colab-df-convert {\n",
              "      background-color: #E8F0FE;\n",
              "      border: none;\n",
              "      border-radius: 50%;\n",
              "      cursor: pointer;\n",
              "      display: none;\n",
              "      fill: #1967D2;\n",
              "      height: 32px;\n",
              "      padding: 0 0 0 0;\n",
              "      width: 32px;\n",
              "    }\n",
              "\n",
              "    .colab-df-convert:hover {\n",
              "      background-color: #E2EBFA;\n",
              "      box-shadow: 0px 1px 2px rgba(60, 64, 67, 0.3), 0px 1px 3px 1px rgba(60, 64, 67, 0.15);\n",
              "      fill: #174EA6;\n",
              "    }\n",
              "\n",
              "    [theme=dark] .colab-df-convert {\n",
              "      background-color: #3B4455;\n",
              "      fill: #D2E3FC;\n",
              "    }\n",
              "\n",
              "    [theme=dark] .colab-df-convert:hover {\n",
              "      background-color: #434B5C;\n",
              "      box-shadow: 0px 1px 3px 1px rgba(0, 0, 0, 0.15);\n",
              "      filter: drop-shadow(0px 1px 2px rgba(0, 0, 0, 0.3));\n",
              "      fill: #FFFFFF;\n",
              "    }\n",
              "  </style>\n",
              "\n",
              "      <script>\n",
              "        const buttonEl =\n",
              "          document.querySelector('#df-6ba99043-f856-4861-8d5c-e2a32ef3f3a3 button.colab-df-convert');\n",
              "        buttonEl.style.display =\n",
              "          google.colab.kernel.accessAllowed ? 'block' : 'none';\n",
              "\n",
              "        async function convertToInteractive(key) {\n",
              "          const element = document.querySelector('#df-6ba99043-f856-4861-8d5c-e2a32ef3f3a3');\n",
              "          const dataTable =\n",
              "            await google.colab.kernel.invokeFunction('convertToInteractive',\n",
              "                                                     [key], {});\n",
              "          if (!dataTable) return;\n",
              "\n",
              "          const docLinkHtml = 'Like what you see? Visit the ' +\n",
              "            '<a target=\"_blank\" href=https://colab.research.google.com/notebooks/data_table.ipynb>data table notebook</a>'\n",
              "            + ' to learn more about interactive tables.';\n",
              "          element.innerHTML = '';\n",
              "          dataTable['output_type'] = 'display_data';\n",
              "          await google.colab.output.renderOutput(dataTable, element);\n",
              "          const docLink = document.createElement('div');\n",
              "          docLink.innerHTML = docLinkHtml;\n",
              "          element.appendChild(docLink);\n",
              "        }\n",
              "      </script>\n",
              "    </div>\n",
              "  </div>\n",
              "  "
            ]
          },
          "metadata": {},
          "execution_count": 48
        }
      ]
    },
    {
      "cell_type": "code",
      "source": [
        "ds.dtypes"
      ],
      "metadata": {
        "colab": {
          "base_uri": "https://localhost:8080/"
        },
        "id": "lqL1CjUOZYGe",
        "outputId": "c48785bd-78aa-49a7-fbb1-2dc2d6fae4a0"
      },
      "execution_count": 49,
      "outputs": [
        {
          "output_type": "execute_result",
          "data": {
            "text/plain": [
              "Unnamed: 0     int64\n",
              "label         object\n",
              "text          object\n",
              "dtype: object"
            ]
          },
          "metadata": {},
          "execution_count": 49
        }
      ]
    },
    {
      "cell_type": "code",
      "source": [
        "##ds = ds.drop(['number'], axis=1) not needed in some versions that have excel"
      ],
      "metadata": {
        "id": "NgED-2h4ZdGH"
      },
      "execution_count": 50,
      "outputs": []
    },
    {
      "cell_type": "code",
      "source": [
        "ds = ds.rename(columns={'label':'disease',\n",
        "                    'text':'symptom'})"
      ],
      "metadata": {
        "id": "woZFrAX3a1D8"
      },
      "execution_count": 51,
      "outputs": []
    },
    {
      "cell_type": "markdown",
      "source": [
        "All the Dupes look a bit different in terms of sentence strurctor and wording so keeping for now. Might have to remove dupes later depending."
      ],
      "metadata": {
        "id": "zzEb1dH00dv9"
      }
    },
    {
      "cell_type": "code",
      "source": [
        "ds.loc[ds.duplicated(subset=['symptom'])].head(50)"
      ],
      "metadata": {
        "colab": {
          "base_uri": "https://localhost:8080/",
          "height": 236
        },
        "id": "PYvumte3b83P",
        "outputId": "707de3f7-cec9-407c-b2af-67a63e9bf74f"
      },
      "execution_count": 52,
      "outputs": [
        {
          "output_type": "execute_result",
          "data": {
            "text/plain": [
              "      Unnamed: 0                          disease  \\\n",
              "163          163                      Chicken pox   \n",
              "387           87                      Common Cold   \n",
              "...          ...                              ...   \n",
              "1048         148  gastroesophageal reflux disease   \n",
              "1049         149  gastroesophageal reflux disease   \n",
              "\n",
              "                                                symptom  \n",
              "163   I'm feeling fatigued and have no energy. I can...  \n",
              "387   I've been quite exhausted and ill. My throat h...  \n",
              "...                                                 ...  \n",
              "1048  Even when I don't have anything acidic in my s...  \n",
              "1049  I'm not in the mood to eat, and swallowing is ...  \n",
              "\n",
              "[47 rows x 3 columns]"
            ],
            "text/html": [
              "\n",
              "  <div id=\"df-8d6095df-46bf-4ba2-9dca-a8c5ac3ce024\">\n",
              "    <div class=\"colab-df-container\">\n",
              "      <div>\n",
              "<style scoped>\n",
              "    .dataframe tbody tr th:only-of-type {\n",
              "        vertical-align: middle;\n",
              "    }\n",
              "\n",
              "    .dataframe tbody tr th {\n",
              "        vertical-align: top;\n",
              "    }\n",
              "\n",
              "    .dataframe thead th {\n",
              "        text-align: right;\n",
              "    }\n",
              "</style>\n",
              "<table border=\"1\" class=\"dataframe\">\n",
              "  <thead>\n",
              "    <tr style=\"text-align: right;\">\n",
              "      <th></th>\n",
              "      <th>Unnamed: 0</th>\n",
              "      <th>disease</th>\n",
              "      <th>symptom</th>\n",
              "    </tr>\n",
              "  </thead>\n",
              "  <tbody>\n",
              "    <tr>\n",
              "      <th>163</th>\n",
              "      <td>163</td>\n",
              "      <td>Chicken pox</td>\n",
              "      <td>I'm feeling fatigued and have no energy. I can...</td>\n",
              "    </tr>\n",
              "    <tr>\n",
              "      <th>387</th>\n",
              "      <td>87</td>\n",
              "      <td>Common Cold</td>\n",
              "      <td>I've been quite exhausted and ill. My throat h...</td>\n",
              "    </tr>\n",
              "    <tr>\n",
              "      <th>...</th>\n",
              "      <td>...</td>\n",
              "      <td>...</td>\n",
              "      <td>...</td>\n",
              "    </tr>\n",
              "    <tr>\n",
              "      <th>1048</th>\n",
              "      <td>148</td>\n",
              "      <td>gastroesophageal reflux disease</td>\n",
              "      <td>Even when I don't have anything acidic in my s...</td>\n",
              "    </tr>\n",
              "    <tr>\n",
              "      <th>1049</th>\n",
              "      <td>149</td>\n",
              "      <td>gastroesophageal reflux disease</td>\n",
              "      <td>I'm not in the mood to eat, and swallowing is ...</td>\n",
              "    </tr>\n",
              "  </tbody>\n",
              "</table>\n",
              "<p>47 rows × 3 columns</p>\n",
              "</div>\n",
              "      <button class=\"colab-df-convert\" onclick=\"convertToInteractive('df-8d6095df-46bf-4ba2-9dca-a8c5ac3ce024')\"\n",
              "              title=\"Convert this dataframe to an interactive table.\"\n",
              "              style=\"display:none;\">\n",
              "        \n",
              "  <svg xmlns=\"http://www.w3.org/2000/svg\" height=\"24px\"viewBox=\"0 0 24 24\"\n",
              "       width=\"24px\">\n",
              "    <path d=\"M0 0h24v24H0V0z\" fill=\"none\"/>\n",
              "    <path d=\"M18.56 5.44l.94 2.06.94-2.06 2.06-.94-2.06-.94-.94-2.06-.94 2.06-2.06.94zm-11 1L8.5 8.5l.94-2.06 2.06-.94-2.06-.94L8.5 2.5l-.94 2.06-2.06.94zm10 10l.94 2.06.94-2.06 2.06-.94-2.06-.94-.94-2.06-.94 2.06-2.06.94z\"/><path d=\"M17.41 7.96l-1.37-1.37c-.4-.4-.92-.59-1.43-.59-.52 0-1.04.2-1.43.59L10.3 9.45l-7.72 7.72c-.78.78-.78 2.05 0 2.83L4 21.41c.39.39.9.59 1.41.59.51 0 1.02-.2 1.41-.59l7.78-7.78 2.81-2.81c.8-.78.8-2.07 0-2.86zM5.41 20L4 18.59l7.72-7.72 1.47 1.35L5.41 20z\"/>\n",
              "  </svg>\n",
              "      </button>\n",
              "      \n",
              "  <style>\n",
              "    .colab-df-container {\n",
              "      display:flex;\n",
              "      flex-wrap:wrap;\n",
              "      gap: 12px;\n",
              "    }\n",
              "\n",
              "    .colab-df-convert {\n",
              "      background-color: #E8F0FE;\n",
              "      border: none;\n",
              "      border-radius: 50%;\n",
              "      cursor: pointer;\n",
              "      display: none;\n",
              "      fill: #1967D2;\n",
              "      height: 32px;\n",
              "      padding: 0 0 0 0;\n",
              "      width: 32px;\n",
              "    }\n",
              "\n",
              "    .colab-df-convert:hover {\n",
              "      background-color: #E2EBFA;\n",
              "      box-shadow: 0px 1px 2px rgba(60, 64, 67, 0.3), 0px 1px 3px 1px rgba(60, 64, 67, 0.15);\n",
              "      fill: #174EA6;\n",
              "    }\n",
              "\n",
              "    [theme=dark] .colab-df-convert {\n",
              "      background-color: #3B4455;\n",
              "      fill: #D2E3FC;\n",
              "    }\n",
              "\n",
              "    [theme=dark] .colab-df-convert:hover {\n",
              "      background-color: #434B5C;\n",
              "      box-shadow: 0px 1px 3px 1px rgba(0, 0, 0, 0.15);\n",
              "      filter: drop-shadow(0px 1px 2px rgba(0, 0, 0, 0.3));\n",
              "      fill: #FFFFFF;\n",
              "    }\n",
              "  </style>\n",
              "\n",
              "      <script>\n",
              "        const buttonEl =\n",
              "          document.querySelector('#df-8d6095df-46bf-4ba2-9dca-a8c5ac3ce024 button.colab-df-convert');\n",
              "        buttonEl.style.display =\n",
              "          google.colab.kernel.accessAllowed ? 'block' : 'none';\n",
              "\n",
              "        async function convertToInteractive(key) {\n",
              "          const element = document.querySelector('#df-8d6095df-46bf-4ba2-9dca-a8c5ac3ce024');\n",
              "          const dataTable =\n",
              "            await google.colab.kernel.invokeFunction('convertToInteractive',\n",
              "                                                     [key], {});\n",
              "          if (!dataTable) return;\n",
              "\n",
              "          const docLinkHtml = 'Like what you see? Visit the ' +\n",
              "            '<a target=\"_blank\" href=https://colab.research.google.com/notebooks/data_table.ipynb>data table notebook</a>'\n",
              "            + ' to learn more about interactive tables.';\n",
              "          element.innerHTML = '';\n",
              "          dataTable['output_type'] = 'display_data';\n",
              "          await google.colab.output.renderOutput(dataTable, element);\n",
              "          const docLink = document.createElement('div');\n",
              "          docLink.innerHTML = docLinkHtml;\n",
              "          element.appendChild(docLink);\n",
              "        }\n",
              "      </script>\n",
              "    </div>\n",
              "  </div>\n",
              "  "
            ]
          },
          "metadata": {},
          "execution_count": 52
        }
      ]
    },
    {
      "cell_type": "code",
      "source": [
        "ds['disease'].value_counts()\\\n",
        ".head(24)\\\n",
        ".plot(kind='barh')"
      ],
      "metadata": {
        "colab": {
          "base_uri": "https://localhost:8080/",
          "height": 448
        },
        "id": "ke4CKg7F0TrF",
        "outputId": "731d08c8-a748-44d2-e21c-97c2a60b5ad7"
      },
      "execution_count": 53,
      "outputs": [
        {
          "output_type": "execute_result",
          "data": {
            "text/plain": [
              "<Axes: >"
            ]
          },
          "metadata": {},
          "execution_count": 53
        },
        {
          "output_type": "display_data",
          "data": {
            "text/plain": [
              "<Figure size 640x480 with 1 Axes>"
            ],
            "image/png": "[encoded data removed]"
          },
          "metadata": {}
        }
      ]
    },
    {
      "cell_type": "markdown",
      "source": [
        "END OF EDA"
      ],
      "metadata": {
        "id": "gIcDz_TY36je"
      }
    },
    {
      "cell_type": "code",
      "source": [
        "ds.loc[:,'Disease_factorized'] = pd.factorize(ds['disease'])[0].reshape(-1,1)"
      ],
      "metadata": {
        "id": "QJIuuYAF5Q-n"
      },
      "execution_count": 54,
      "outputs": []
    },
    {
      "cell_type": "code",
      "source": [
        "import spacy.cli\n",
        "from spacy.lang.en.stop_words import STOP_WORDS\n",
        "stop = STOP_WORDS\n",
        "spacy.cli.download(\"en_core_web_lg\")\n",
        "nlp = spacy.load(\"en_core_web_lg\") \n",
        "\n",
        "\n",
        "def preprocess(symptom):\n",
        "    list =[]\n",
        "    for token in nlp(symptom):\n",
        "        if token.is_space or token.is_punct or token.is_stop:\n",
        "            continue\n",
        "        list.append(token.lemma_)\n",
        "    return ' '.join(list) ## [8]"
      ],
      "metadata": {
        "colab": {
          "base_uri": "https://localhost:8080/"
        },
        "id": "RKOdPADe67CH",
        "outputId": "1bfebaca-463d-4fad-c18f-1ad46ccc447c"
      },
      "execution_count": 55,
      "outputs": [
        {
          "output_type": "stream",
          "name": "stdout",
          "text": [
            "\u001b[38;5;2m✔ Download and installation successful\u001b[0m\n",
            "You can now load the package via spacy.load('en_core_web_lg')\n"
          ]
        }
      ]
    },
    {
      "cell_type": "code",
      "source": [
        "ds['preprocess'] = ds['symptom'].apply(preprocess)## [8]"
      ],
      "metadata": {
        "id": "y7mlKG_U-Q9X"
      },
      "execution_count": 56,
      "outputs": []
    },
    {
      "cell_type": "code",
      "source": [
        "ds.head(100)"
      ],
      "metadata": {
        "colab": {
          "base_uri": "https://localhost:8080/",
          "height": 236
        },
        "id": "Tm97f9L5_Apd",
        "outputId": "6be29778-af9b-46f7-b0d9-121bef5ea8a0"
      },
      "execution_count": 57,
      "outputs": [
        {
          "output_type": "execute_result",
          "data": {
            "text/plain": [
              "    Unnamed: 0         disease  \\\n",
              "0            0       Psoriasis   \n",
              "1            1       Psoriasis   \n",
              "..         ...             ...   \n",
              "98          98  Varicose Veins   \n",
              "99          99  Varicose Veins   \n",
              "\n",
              "                                              symptom  Disease_factorized  \\\n",
              "0   I have been experiencing a skin rash on my arm...                   0   \n",
              "1   My skin has been peeling, especially on my kne...                   0   \n",
              "..                                                ...                 ...   \n",
              "98  I am experiencing too many cramps in the last ...                   1   \n",
              "99  The veins in my calves are protruding out quit...                   1   \n",
              "\n",
              "                                           preprocess  \n",
              "0   experience skin rash arm leg torso past week r...  \n",
              "1   skin peel especially knee elbow scalp peeling ...  \n",
              "..                                                ...  \n",
              "98  experience cramp couple day think right believ...  \n",
              "99  vein calf protrude unusually worried overweigh...  \n",
              "\n",
              "[100 rows x 5 columns]"
            ],
            "text/html": [
              "\n",
              "  <div id=\"df-8b0a85f4-5838-4fd9-b550-d3cce8a73c09\">\n",
              "    <div class=\"colab-df-container\">\n",
              "      <div>\n",
              "<style scoped>\n",
              "    .dataframe tbody tr th:only-of-type {\n",
              "        vertical-align: middle;\n",
              "    }\n",
              "\n",
              "    .dataframe tbody tr th {\n",
              "        vertical-align: top;\n",
              "    }\n",
              "\n",
              "    .dataframe thead th {\n",
              "        text-align: right;\n",
              "    }\n",
              "</style>\n",
              "<table border=\"1\" class=\"dataframe\">\n",
              "  <thead>\n",
              "    <tr style=\"text-align: right;\">\n",
              "      <th></th>\n",
              "      <th>Unnamed: 0</th>\n",
              "      <th>disease</th>\n",
              "      <th>symptom</th>\n",
              "      <th>Disease_factorized</th>\n",
              "      <th>preprocess</th>\n",
              "    </tr>\n",
              "  </thead>\n",
              "  <tbody>\n",
              "    <tr>\n",
              "      <th>0</th>\n",
              "      <td>0</td>\n",
              "      <td>Psoriasis</td>\n",
              "      <td>I have been experiencing a skin rash on my arm...</td>\n",
              "      <td>0</td>\n",
              "      <td>experience skin rash arm leg torso past week r...</td>\n",
              "    </tr>\n",
              "    <tr>\n",
              "      <th>1</th>\n",
              "      <td>1</td>\n",
              "      <td>Psoriasis</td>\n",
              "      <td>My skin has been peeling, especially on my kne...</td>\n",
              "      <td>0</td>\n",
              "      <td>skin peel especially knee elbow scalp peeling ...</td>\n",
              "    </tr>\n",
              "    <tr>\n",
              "      <th>...</th>\n",
              "      <td>...</td>\n",
              "      <td>...</td>\n",
              "      <td>...</td>\n",
              "      <td>...</td>\n",
              "      <td>...</td>\n",
              "    </tr>\n",
              "    <tr>\n",
              "      <th>98</th>\n",
              "      <td>98</td>\n",
              "      <td>Varicose Veins</td>\n",
              "      <td>I am experiencing too many cramps in the last ...</td>\n",
              "      <td>1</td>\n",
              "      <td>experience cramp couple day think right believ...</td>\n",
              "    </tr>\n",
              "    <tr>\n",
              "      <th>99</th>\n",
              "      <td>99</td>\n",
              "      <td>Varicose Veins</td>\n",
              "      <td>The veins in my calves are protruding out quit...</td>\n",
              "      <td>1</td>\n",
              "      <td>vein calf protrude unusually worried overweigh...</td>\n",
              "    </tr>\n",
              "  </tbody>\n",
              "</table>\n",
              "<p>100 rows × 5 columns</p>\n",
              "</div>\n",
              "      <button class=\"colab-df-convert\" onclick=\"convertToInteractive('df-8b0a85f4-5838-4fd9-b550-d3cce8a73c09')\"\n",
              "              title=\"Convert this dataframe to an interactive table.\"\n",
              "              style=\"display:none;\">\n",
              "        \n",
              "  <svg xmlns=\"http://www.w3.org/2000/svg\" height=\"24px\"viewBox=\"0 0 24 24\"\n",
              "       width=\"24px\">\n",
              "    <path d=\"M0 0h24v24H0V0z\" fill=\"none\"/>\n",
              "    <path d=\"M18.56 5.44l.94 2.06.94-2.06 2.06-.94-2.06-.94-.94-2.06-.94 2.06-2.06.94zm-11 1L8.5 8.5l.94-2.06 2.06-.94-2.06-.94L8.5 2.5l-.94 2.06-2.06.94zm10 10l.94 2.06.94-2.06 2.06-.94-2.06-.94-.94-2.06-.94 2.06-2.06.94z\"/><path d=\"M17.41 7.96l-1.37-1.37c-.4-.4-.92-.59-1.43-.59-.52 0-1.04.2-1.43.59L10.3 9.45l-7.72 7.72c-.78.78-.78 2.05 0 2.83L4 21.41c.39.39.9.59 1.41.59.51 0 1.02-.2 1.41-.59l7.78-7.78 2.81-2.81c.8-.78.8-2.07 0-2.86zM5.41 20L4 18.59l7.72-7.72 1.47 1.35L5.41 20z\"/>\n",
              "  </svg>\n",
              "      </button>\n",
              "      \n",
              "  <style>\n",
              "    .colab-df-container {\n",
              "      display:flex;\n",
              "      flex-wrap:wrap;\n",
              "      gap: 12px;\n",
              "    }\n",
              "\n",
              "    .colab-df-convert {\n",
              "      background-color: #E8F0FE;\n",
              "      border: none;\n",
              "      border-radius: 50%;\n",
              "      cursor: pointer;\n",
              "      display: none;\n",
              "      fill: #1967D2;\n",
              "      height: 32px;\n",
              "      padding: 0 0 0 0;\n",
              "      width: 32px;\n",
              "    }\n",
              "\n",
              "    .colab-df-convert:hover {\n",
              "      background-color: #E2EBFA;\n",
              "      box-shadow: 0px 1px 2px rgba(60, 64, 67, 0.3), 0px 1px 3px 1px rgba(60, 64, 67, 0.15);\n",
              "      fill: #174EA6;\n",
              "    }\n",
              "\n",
              "    [theme=dark] .colab-df-convert {\n",
              "      background-color: #3B4455;\n",
              "      fill: #D2E3FC;\n",
              "    }\n",
              "\n",
              "    [theme=dark] .colab-df-convert:hover {\n",
              "      background-color: #434B5C;\n",
              "      box-shadow: 0px 1px 3px 1px rgba(0, 0, 0, 0.15);\n",
              "      filter: drop-shadow(0px 1px 2px rgba(0, 0, 0, 0.3));\n",
              "      fill: #FFFFFF;\n",
              "    }\n",
              "  </style>\n",
              "\n",
              "      <script>\n",
              "        const buttonEl =\n",
              "          document.querySelector('#df-8b0a85f4-5838-4fd9-b550-d3cce8a73c09 button.colab-df-convert');\n",
              "        buttonEl.style.display =\n",
              "          google.colab.kernel.accessAllowed ? 'block' : 'none';\n",
              "\n",
              "        async function convertToInteractive(key) {\n",
              "          const element = document.querySelector('#df-8b0a85f4-5838-4fd9-b550-d3cce8a73c09');\n",
              "          const dataTable =\n",
              "            await google.colab.kernel.invokeFunction('convertToInteractive',\n",
              "                                                     [key], {});\n",
              "          if (!dataTable) return;\n",
              "\n",
              "          const docLinkHtml = 'Like what you see? Visit the ' +\n",
              "            '<a target=\"_blank\" href=https://colab.research.google.com/notebooks/data_table.ipynb>data table notebook</a>'\n",
              "            + ' to learn more about interactive tables.';\n",
              "          element.innerHTML = '';\n",
              "          dataTable['output_type'] = 'display_data';\n",
              "          await google.colab.output.renderOutput(dataTable, element);\n",
              "          const docLink = document.createElement('div');\n",
              "          docLink.innerHTML = docLinkHtml;\n",
              "          element.appendChild(docLink);\n",
              "        }\n",
              "      </script>\n",
              "    </div>\n",
              "  </div>\n",
              "  "
            ]
          },
          "metadata": {},
          "execution_count": 57
        }
      ]
    },
    {
      "cell_type": "code",
      "source": [
        "ds['vector'] = ds.preprocess.apply(lambda symptom: nlp(symptom).vector)\n",
        "ds.head(1200)## [8]"
      ],
      "metadata": {
        "colab": {
          "base_uri": "https://localhost:8080/",
          "height": 236
        },
        "id": "FxjuE1sCFv9F",
        "outputId": "63c7f41f-c25d-4f00-ff37-22c811c02adc"
      },
      "execution_count": 58,
      "outputs": [
        {
          "output_type": "execute_result",
          "data": {
            "text/plain": [
              "      Unnamed: 0    disease  \\\n",
              "0              0  Psoriasis   \n",
              "1              1  Psoriasis   \n",
              "...          ...        ...   \n",
              "1198         298   diabetes   \n",
              "1199         299   diabetes   \n",
              "\n",
              "                                                symptom  Disease_factorized  \\\n",
              "0     I have been experiencing a skin rash on my arm...                   0   \n",
              "1     My skin has been peeling, especially on my kne...                   0   \n",
              "...                                                 ...                 ...   \n",
              "1198  I have trouble breathing, especially outside. ...                  23   \n",
              "1199  I constantly sneeze and have a dry cough. My i...                  23   \n",
              "\n",
              "                                             preprocess  \\\n",
              "0     experience skin rash arm leg torso past week r...   \n",
              "1     skin peel especially knee elbow scalp peeling ...   \n",
              "...                                                 ...   \n",
              "1198  trouble breathe especially outside start feel ...   \n",
              "1199  constantly sneeze dry cough infection heal pal...   \n",
              "\n",
              "                                                 vector  \n",
              "0     [1.2192994, 2.8289015, -2.2025487, 1.1896608, ...  \n",
              "1     [0.97605723, 0.94874, -1.1472255, 0.7280576, 0...  \n",
              "...                                                 ...  \n",
              "1198  [0.6334073, 0.6208037, -1.7759763, 0.760024, 2...  \n",
              "1199  [1.3577626, 0.71939456, -1.6780982, 1.83248, 0...  \n",
              "\n",
              "[1200 rows x 6 columns]"
            ],
            "text/html": [
              "\n",
              "  <div id=\"df-ebcaf6f4-5caa-4380-9b80-204cfea7d2d1\">\n",
              "    <div class=\"colab-df-container\">\n",
              "      <div>\n",
              "<style scoped>\n",
              "    .dataframe tbody tr th:only-of-type {\n",
              "        vertical-align: middle;\n",
              "    }\n",
              "\n",
              "    .dataframe tbody tr th {\n",
              "        vertical-align: top;\n",
              "    }\n",
              "\n",
              "    .dataframe thead th {\n",
              "        text-align: right;\n",
              "    }\n",
              "</style>\n",
              "<table border=\"1\" class=\"dataframe\">\n",
              "  <thead>\n",
              "    <tr style=\"text-align: right;\">\n",
              "      <th></th>\n",
              "      <th>Unnamed: 0</th>\n",
              "      <th>disease</th>\n",
              "      <th>symptom</th>\n",
              "      <th>Disease_factorized</th>\n",
              "      <th>preprocess</th>\n",
              "      <th>vector</th>\n",
              "    </tr>\n",
              "  </thead>\n",
              "  <tbody>\n",
              "    <tr>\n",
              "      <th>0</th>\n",
              "      <td>0</td>\n",
              "      <td>Psoriasis</td>\n",
              "      <td>I have been experiencing a skin rash on my arm...</td>\n",
              "      <td>0</td>\n",
              "      <td>experience skin rash arm leg torso past week r...</td>\n",
              "      <td>[1.2192994, 2.8289015, -2.2025487, 1.1896608, ...</td>\n",
              "    </tr>\n",
              "    <tr>\n",
              "      <th>1</th>\n",
              "      <td>1</td>\n",
              "      <td>Psoriasis</td>\n",
              "      <td>My skin has been peeling, especially on my kne...</td>\n",
              "      <td>0</td>\n",
              "      <td>skin peel especially knee elbow scalp peeling ...</td>\n",
              "      <td>[0.97605723, 0.94874, -1.1472255, 0.7280576, 0...</td>\n",
              "    </tr>\n",
              "    <tr>\n",
              "      <th>...</th>\n",
              "      <td>...</td>\n",
              "      <td>...</td>\n",
              "      <td>...</td>\n",
              "      <td>...</td>\n",
              "      <td>...</td>\n",
              "      <td>...</td>\n",
              "    </tr>\n",
              "    <tr>\n",
              "      <th>1198</th>\n",
              "      <td>298</td>\n",
              "      <td>diabetes</td>\n",
              "      <td>I have trouble breathing, especially outside. ...</td>\n",
              "      <td>23</td>\n",
              "      <td>trouble breathe especially outside start feel ...</td>\n",
              "      <td>[0.6334073, 0.6208037, -1.7759763, 0.760024, 2...</td>\n",
              "    </tr>\n",
              "    <tr>\n",
              "      <th>1199</th>\n",
              "      <td>299</td>\n",
              "      <td>diabetes</td>\n",
              "      <td>I constantly sneeze and have a dry cough. My i...</td>\n",
              "      <td>23</td>\n",
              "      <td>constantly sneeze dry cough infection heal pal...</td>\n",
              "      <td>[1.3577626, 0.71939456, -1.6780982, 1.83248, 0...</td>\n",
              "    </tr>\n",
              "  </tbody>\n",
              "</table>\n",
              "<p>1200 rows × 6 columns</p>\n",
              "</div>\n",
              "      <button class=\"colab-df-convert\" onclick=\"convertToInteractive('df-ebcaf6f4-5caa-4380-9b80-204cfea7d2d1')\"\n",
              "              title=\"Convert this dataframe to an interactive table.\"\n",
              "              style=\"display:none;\">\n",
              "        \n",
              "  <svg xmlns=\"http://www.w3.org/2000/svg\" height=\"24px\"viewBox=\"0 0 24 24\"\n",
              "       width=\"24px\">\n",
              "    <path d=\"M0 0h24v24H0V0z\" fill=\"none\"/>\n",
              "    <path d=\"M18.56 5.44l.94 2.06.94-2.06 2.06-.94-2.06-.94-.94-2.06-.94 2.06-2.06.94zm-11 1L8.5 8.5l.94-2.06 2.06-.94-2.06-.94L8.5 2.5l-.94 2.06-2.06.94zm10 10l.94 2.06.94-2.06 2.06-.94-2.06-.94-.94-2.06-.94 2.06-2.06.94z\"/><path d=\"M17.41 7.96l-1.37-1.37c-.4-.4-.92-.59-1.43-.59-.52 0-1.04.2-1.43.59L10.3 9.45l-7.72 7.72c-.78.78-.78 2.05 0 2.83L4 21.41c.39.39.9.59 1.41.59.51 0 1.02-.2 1.41-.59l7.78-7.78 2.81-2.81c.8-.78.8-2.07 0-2.86zM5.41 20L4 18.59l7.72-7.72 1.47 1.35L5.41 20z\"/>\n",
              "  </svg>\n",
              "      </button>\n",
              "      \n",
              "  <style>\n",
              "    .colab-df-container {\n",
              "      display:flex;\n",
              "      flex-wrap:wrap;\n",
              "      gap: 12px;\n",
              "    }\n",
              "\n",
              "    .colab-df-convert {\n",
              "      background-color: #E8F0FE;\n",
              "      border: none;\n",
              "      border-radius: 50%;\n",
              "      cursor: pointer;\n",
              "      display: none;\n",
              "      fill: #1967D2;\n",
              "      height: 32px;\n",
              "      padding: 0 0 0 0;\n",
              "      width: 32px;\n",
              "    }\n",
              "\n",
              "    .colab-df-convert:hover {\n",
              "      background-color: #E2EBFA;\n",
              "      box-shadow: 0px 1px 2px rgba(60, 64, 67, 0.3), 0px 1px 3px 1px rgba(60, 64, 67, 0.15);\n",
              "      fill: #174EA6;\n",
              "    }\n",
              "\n",
              "    [theme=dark] .colab-df-convert {\n",
              "      background-color: #3B4455;\n",
              "      fill: #D2E3FC;\n",
              "    }\n",
              "\n",
              "    [theme=dark] .colab-df-convert:hover {\n",
              "      background-color: #434B5C;\n",
              "      box-shadow: 0px 1px 3px 1px rgba(0, 0, 0, 0.15);\n",
              "      filter: drop-shadow(0px 1px 2px rgba(0, 0, 0, 0.3));\n",
              "      fill: #FFFFFF;\n",
              "    }\n",
              "  </style>\n",
              "\n",
              "      <script>\n",
              "        const buttonEl =\n",
              "          document.querySelector('#df-ebcaf6f4-5caa-4380-9b80-204cfea7d2d1 button.colab-df-convert');\n",
              "        buttonEl.style.display =\n",
              "          google.colab.kernel.accessAllowed ? 'block' : 'none';\n",
              "\n",
              "        async function convertToInteractive(key) {\n",
              "          const element = document.querySelector('#df-ebcaf6f4-5caa-4380-9b80-204cfea7d2d1');\n",
              "          const dataTable =\n",
              "            await google.colab.kernel.invokeFunction('convertToInteractive',\n",
              "                                                     [key], {});\n",
              "          if (!dataTable) return;\n",
              "\n",
              "          const docLinkHtml = 'Like what you see? Visit the ' +\n",
              "            '<a target=\"_blank\" href=https://colab.research.google.com/notebooks/data_table.ipynb>data table notebook</a>'\n",
              "            + ' to learn more about interactive tables.';\n",
              "          element.innerHTML = '';\n",
              "          dataTable['output_type'] = 'display_data';\n",
              "          await google.colab.output.renderOutput(dataTable, element);\n",
              "          const docLink = document.createElement('div');\n",
              "          docLink.innerHTML = docLinkHtml;\n",
              "          element.appendChild(docLink);\n",
              "        }\n",
              "      </script>\n",
              "    </div>\n",
              "  </div>\n",
              "  "
            ]
          },
          "metadata": {},
          "execution_count": 58
        }
      ]
    },
    {
      "cell_type": "markdown",
      "source": [
        "END OF PRE PROCESSING"
      ],
      "metadata": {
        "id": "95Hfffs74Aiz"
      }
    },
    {
      "cell_type": "code",
      "source": [
        "from sklearn.model_selection import train_test_split\n",
        "\n",
        "X_train, X_test, y_train, y_test = train_test_split(ds['vector'].values, ds['Disease_factorized'], test_size=0.33, random_state=30, stratify = ds['Disease_factorized'])"
      ],
      "metadata": {
        "id": "kzzyAHhL-BOm"
      },
      "execution_count": 59,
      "outputs": []
    },
    {
      "cell_type": "code",
      "source": [
        "X_train2 = np.stack(X_train)\n",
        "#print(X_train2)\n",
        "X_test2 = np.stack(X_test)\n",
        "## [8]"
      ],
      "metadata": {
        "id": "H-e3zHXrT_hA"
      },
      "execution_count": 60,
      "outputs": []
    },
    {
      "cell_type": "code",
      "source": [
        "from sklearn.ensemble import RandomForestClassifier\n",
        "from sklearn.datasets import make_classification\n",
        "X, y = make_classification(n_samples=300, n_features=4, n_informative=2, n_redundant=0,random_state=0, shuffle=False)\n",
        "clf = RandomForestClassifier()\n",
        "clf = clf.fit(X_train2,y_train)"
      ],
      "metadata": {
        "id": "a7utpwprfOZ5"
      },
      "execution_count": 61,
      "outputs": []
    },
    {
      "cell_type": "code",
      "source": [
        "prediction = clf.predict(X_test2)\n",
        "prediction"
      ],
      "metadata": {
        "colab": {
          "base_uri": "https://localhost:8080/"
        },
        "id": "SBYiE7j8FUIQ",
        "outputId": "057e2141-8091-4e24-fec9-2987bf3a80ef"
      },
      "execution_count": 62,
      "outputs": [
        {
          "output_type": "execute_result",
          "data": {
            "text/plain": [
              "array([ 7, 13,  5,  2, 17, 18, 15,  4, 16, 13, 14, 23, 23, 13, 11, 15,  1,\n",
              "       22, 17,  6,  1, 13,  0,  1,  9, 23, 10, 18,  4, 19, 23, 17, 14, 12,\n",
              "       14, 15, 13, 20, 13, 14,  1, 12, 20, 20,  5,  6, 13,  1, 14, 15,  6,\n",
              "       14, 12, 22,  8, 10,  0, 16,  1, 15,  7, 21, 22, 15, 18,  5, 18, 21,\n",
              "       20,  9,  9, 19,  6,  7, 15, 14,  2,  4, 19, 23,  0, 19,  0,  2, 14,\n",
              "       21,  0, 18, 10, 16, 12, 16, 20,  3,  3, 12,  1, 18, 16,  4,  6,  2,\n",
              "        9, 20,  5,  0, 11,  0,  9,  7, 22, 14, 10, 17,  9, 10, 13, 22, 10,\n",
              "       14, 23, 11, 11,  7,  7, 12, 19, 20, 18,  0,  0, 23, 18, 15, 19, 15,\n",
              "       22,  8, 18,  8,  3, 20,  1,  1, 22, 16, 15,  7,  9,  2,  1, 16,  2,\n",
              "       14, 18,  9, 22, 12, 23,  2,  7,  4, 15, 20, 12,  8,  9, 17, 20, 19,\n",
              "       17, 20,  6,  0, 19, 15, 20,  8,  4, 19, 23,  4, 14,  9, 19, 18, 18,\n",
              "       15, 16,  7, 12, 15,  4, 13, 20, 11, 17,  2,  0, 16, 12, 10,  9,  4,\n",
              "       10, 10,  1,  8,  3,  8,  0, 12,  0, 10, 21,  3,  2,  8,  3,  7, 13,\n",
              "       14, 13,  2,  2,  7, 19,  4, 10, 14, 11,  7, 18,  6,  5,  1,  1, 20,\n",
              "       19, 19,  4,  8, 11, 11, 14, 21,  5, 12, 17, 18, 11, 17, 17, 21,  3,\n",
              "        6,  9,  8, 22,  2,  4, 21, 16,  4, 17,  9, 13, 19, 23,  3, 18, 18,\n",
              "       19,  9, 12, 21,  0, 17, 11,  5, 20,  3, 22, 10, 11,  5,  7,  4, 10,\n",
              "       10, 22, 22, 13, 21,  0, 15,  6, 17,  3,  1,  1, 20,  3,  8, 11, 22,\n",
              "        0, 16,  0,  6, 10,  7, 16,  6,  9, 16,  2,  2, 16,  3,  8, 10, 14,\n",
              "        6,  8, 12, 17,  7, 23,  6,  0,  7, 17,  7, 13, 16, 11,  4, 19,  9,\n",
              "        5,  8,  9,  0, 18,  3,  9,  1, 12, 14,  0,  1,  3, 14, 13, 20,  8,\n",
              "        4,  6,  7, 12, 15,  2, 21,  1, 20, 17, 14, 12, 17, 10,  7, 12, 21,\n",
              "       11, 17, 16, 20, 11,  2,  6,  2,  3, 18, 12, 11,  9,  1,  5, 15, 22,\n",
              "       15, 12, 17,  8,  9])"
            ]
          },
          "metadata": {},
          "execution_count": 62
        }
      ]
    },
    {
      "cell_type": "code",
      "source": [
        "from sklearn.metrics import accuracy_score\n",
        "accuracy_score(y_test, prediction)"
      ],
      "metadata": {
        "colab": {
          "base_uri": "https://localhost:8080/"
        },
        "id": "4NZg-DRGF6W3",
        "outputId": "d52ec43e-ba25-4e74-b4be-924f0fbfae5e"
      },
      "execution_count": 63,
      "outputs": [
        {
          "output_type": "execute_result",
          "data": {
            "text/plain": [
              "0.8661616161616161"
            ]
          },
          "metadata": {},
          "execution_count": 63
        }
      ]
    },
    {
      "cell_type": "code",
      "source": [
        "from sklearn.metrics import confusion_matrix\n",
        "confusion_matrix(y_test, prediction, labels=[0,1])"
      ],
      "metadata": {
        "id": "NPbvz2idGWq4",
        "colab": {
          "base_uri": "https://localhost:8080/"
        },
        "outputId": "717151fe-f270-4d4f-adc4-b72cfb2f7d6b"
      },
      "execution_count": 68,
      "outputs": [
        {
          "output_type": "execute_result",
          "data": {
            "text/plain": [
              "array([[13,  1],\n",
              "       [ 0, 16]])"
            ]
          },
          "metadata": {},
          "execution_count": 68
        }
      ]
    },
    {
      "cell_type": "code",
      "source": [
        "from sklearn.metrics import classification_report\n",
        "print(classification_report(y_test, prediction))"
      ],
      "metadata": {
        "colab": {
          "base_uri": "https://localhost:8080/"
        },
        "id": "rmk_19NNGySr",
        "outputId": "3f0ab7f6-f483-43de-ac79-cee0884d541b"
      },
      "execution_count": 65,
      "outputs": [
        {
          "output_type": "stream",
          "name": "stdout",
          "text": [
            "              precision    recall  f1-score   support\n",
            "\n",
            "           0       0.65      0.81      0.72        16\n",
            "           1       0.84      1.00      0.91        16\n",
            "           2       0.71      0.71      0.71        17\n",
            "           3       0.73      0.65      0.69        17\n",
            "           4       0.88      0.88      0.88        16\n",
            "           5       0.80      0.47      0.59        17\n",
            "           6       1.00      0.94      0.97        16\n",
            "           7       0.79      0.88      0.83        17\n",
            "           8       0.81      0.81      0.81        16\n",
            "           9       0.85      1.00      0.92        17\n",
            "          10       0.94      1.00      0.97        16\n",
            "          11       1.00      1.00      1.00        16\n",
            "          12       0.80      0.94      0.86        17\n",
            "          13       1.00      0.88      0.94        17\n",
            "          14       0.89      1.00      0.94        17\n",
            "          15       0.89      1.00      0.94        16\n",
            "          16       1.00      1.00      1.00        16\n",
            "          17       0.89      1.00      0.94        17\n",
            "          18       0.89      1.00      0.94        16\n",
            "          19       0.94      0.94      0.94        16\n",
            "          20       0.79      0.88      0.83        17\n",
            "          21       1.00      0.65      0.79        17\n",
            "          22       0.86      0.75      0.80        16\n",
            "          23       1.00      0.65      0.79        17\n",
            "\n",
            "    accuracy                           0.87       396\n",
            "   macro avg       0.87      0.87      0.86       396\n",
            "weighted avg       0.87      0.87      0.86       396\n",
            "\n"
          ]
        }
      ]
    },
    {
      "cell_type": "markdown",
      "source": [
        "Saving the Model using joblib\n"
      ],
      "metadata": {
        "id": "8Qo8MGWS09Uv"
      }
    }
  ]
}